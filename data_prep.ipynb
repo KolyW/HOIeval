{
 "cells": [
  {
   "cell_type": "markdown",
   "metadata": {},
   "source": [
    "### Load environment"
   ]
  },
  {
   "cell_type": "code",
   "execution_count": 1,
   "metadata": {},
   "outputs": [
    {
     "name": "stderr",
     "output_type": "stream",
     "text": [
      "/home/swdev/contactEst/cfe/lib/python3.10/site-packages/tqdm/auto.py:21: TqdmWarning: IProgress not found. Please update jupyter and ipywidgets. See https://ipywidgets.readthedocs.io/en/stable/user_install.html\n",
      "  from .autonotebook import tqdm as notebook_tqdm\n"
     ]
    }
   ],
   "source": [
    "from data.ID2LABEL import *\n",
    "from datasets import load_dataset\n",
    "from data.json_to_coco_eval_format import AnnCocoRemap\n",
    "from data.json_to_yolo import Json2YoloAnnConverter\n",
    "from data.xml_to_json import jsonAnnGtor\n",
    "\n",
    "criteria = ['handstate', 'handside', 'hand+obj', None]        # handstate handside hand+obj all\n",
    "criterion = criteria[2]   # change in case needed"
   ]
  },
  {
   "cell_type": "markdown",
   "metadata": {},
   "source": [
    "### Preparing dataset in required architecture"
   ]
  },
  {
   "cell_type": "markdown",
   "metadata": {},
   "source": [
    "#### Split Images into `train` `val` and `test` sub folders"
   ]
  },
  {
   "cell_type": "code",
   "execution_count": null,
   "metadata": {},
   "outputs": [],
   "source": [
    "from data.data_yolohod import sortIms\n",
    "save_path = './data/100DOH/images'\n",
    "orig_ds_path = '/home/swdev/contactEst/InteractionDetectorDDETR/pascal_voc_format/VOCdevkit2007_handobj_100K/VOC2007'\n",
    "sortIms(orig_ds_path,save_path=save_path)"
   ]
  },
  {
   "cell_type": "markdown",
   "metadata": {},
   "source": [
    "#### Remap the original `xml` format annotation into `json`"
   ]
  },
  {
   "cell_type": "code",
   "execution_count": null,
   "metadata": {},
   "outputs": [],
   "source": [
    "prefix = '/home/swdev/contactEst/InteractionDetectorDDETR/'\n",
    "datalistPath = f\"{prefix}pascal_voc_format/VOCdevkit2007_handobj_100K/VOC2007/ImageSets/Main\"\n",
    "annPath = f\"{prefix}pascal_voc_format/VOCdevkit2007_handobj_100K/VOC2007/Annotations\"\n",
    "targetPath = \"./data/json_format\"\n",
    "if not os.path.exists(targetPath):\n",
    "    os.makedirs(targetPath)\n",
    "jsonAnnGtor(datalistPath=datalistPath, annPath=annPath, targetPath=targetPath)"
   ]
  },
  {
   "cell_type": "markdown",
   "metadata": {},
   "source": [
    "### Annotation remapping for `YOLO` from `json` to `txt`"
   ]
  },
  {
   "cell_type": "code",
   "execution_count": null,
   "metadata": {},
   "outputs": [],
   "source": [
    "ann_path = targetPath\n",
    "save_path = './data/100DOH/labels'\n",
    "Y_Cter = Json2YoloAnnConverter(ann_path=ann_path, save_path=save_path)\n",
    "Y_Cter(constraint=criterion)"
   ]
  },
  {
   "cell_type": "markdown",
   "metadata": {},
   "source": [
    "### Generate COCO format ground truth in `json`\n",
    "default path: `\"./data/json_format/coco_gt\"` "
   ]
  },
  {
   "cell_type": "code",
   "execution_count": 2,
   "metadata": {},
   "outputs": [
    {
     "name": "stderr",
     "output_type": "stream",
     "text": [
      "/home/swdev/contactEst/cfe/lib/python3.10/site-packages/datasets/load.py:922: FutureWarning: The repository for 100DOH contains custom code which must be executed to correctly load the dataset. You can inspect the repository content at data/100DOH/100DOH.py\n",
      "You can avoid this message in future by passing the argument `trust_remote_code=True`.\n",
      "Passing `trust_remote_code=True` will be mandatory to load this dataset from the next major release of `datasets`.\n",
      "  warnings.warn(\n"
     ]
    },
    {
     "data": {
      "text/plain": [
       "('/home/swdev/contactEst/InteractionDetectorDDETR/ddetr_dv/data/hoitest',\n",
       " './data/json_format/coco_gt/gt_hand+obj.json')"
      ]
     },
     "execution_count": 2,
     "metadata": {},
     "output_type": "execute_result"
    }
   ],
   "source": [
    "ds_path = \"data/100DOH\" \n",
    "test_ds = load_dataset(ds_path)['test'].select(range(0,9983))\n",
    "\n",
    "AnnCocoRemap.save_annotation_file_images(test_ds, id2label=ID2LABEL_ALL, eval_constraint=criterion)"
   ]
  }
 ],
 "metadata": {
  "kernelspec": {
   "display_name": "cfe",
   "language": "python",
   "name": "python3"
  },
  "language_info": {
   "codemirror_mode": {
    "name": "ipython",
    "version": 3
   },
   "file_extension": ".py",
   "mimetype": "text/x-python",
   "name": "python",
   "nbconvert_exporter": "python",
   "pygments_lexer": "ipython3",
   "version": "3.10.12"
  }
 },
 "nbformat": 4,
 "nbformat_minor": 2
}
