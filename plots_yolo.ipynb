{
 "cells": [
  {
   "cell_type": "markdown",
   "metadata": {},
   "source": [
    "### Load environment"
   ]
  },
  {
   "cell_type": "code",
   "execution_count": 1,
   "metadata": {},
   "outputs": [
    {
     "name": "stderr",
     "output_type": "stream",
     "text": [
      "/home/swdev/contactEst/cfe/lib/python3.10/site-packages/tqdm/auto.py:21: TqdmWarning: IProgress not found. Please update jupyter and ipywidgets. See https://ipywidgets.readthedocs.io/en/stable/user_install.html\n",
      "  from .autonotebook import tqdm as notebook_tqdm\n"
     ]
    }
   ],
   "source": [
    "from ultralytics import YOLO\n",
    "from data.json_to_yolo import Json2YoloAnnConverter\n",
    "from data.xml_to_json import jsonAnnGtor\n",
    "from engine.da_eval import eval_yolo, eval_da_yolo, eval_plot_COCO\n",
    "import os\n",
    "\n",
    "criteria = ['handstate', 'handside', 'hand+obj', None]        # handstate handside hand+obj all\n",
    "criterion = criteria[3]   # change in case needed"
   ]
  },
  {
   "cell_type": "markdown",
   "metadata": {},
   "source": [
    "### Preparing dataset in required architecture"
   ]
  },
  {
   "cell_type": "markdown",
   "metadata": {},
   "source": [
    "#### Remap the original `xml` format annotation into `json`"
   ]
  },
  {
   "cell_type": "code",
   "execution_count": 2,
   "metadata": {},
   "outputs": [],
   "source": [
    "prefix = '/home/swdev/contactEst/InteractionDetectorDDETR/'\n",
    "datalistPath = f\"{prefix}pascal_voc_format/VOCdevkit2007_handobj_100K/VOC2007/ImageSets/Main\"\n",
    "annPath = f\"{prefix}pascal_voc_format/VOCdevkit2007_handobj_100K/VOC2007/Annotations\"\n",
    "targetPath = \"./data/json_format\"\n",
    "if not os.path.exists(targetPath):\n",
    "    os.makedirs(targetPath)\n",
    "jsonAnnGtor(datalistPath=datalistPath, annPath=annPath, targetPath=targetPath)"
   ]
  },
  {
   "cell_type": "markdown",
   "metadata": {},
   "source": [
    "### Annotation remapping for `yolo` from `json` to `txt`"
   ]
  },
  {
   "cell_type": "code",
   "execution_count": 3,
   "metadata": {},
   "outputs": [],
   "source": [
    "ann_path = targetPath\n",
    "save_path = './data/100DOH/labels'\n",
    "Y_Cter = Json2YoloAnnConverter(ann_path=ann_path, save_path=save_path)\n",
    "Y_Cter(constraint=criterion)"
   ]
  },
  {
   "cell_type": "markdown",
   "metadata": {},
   "source": [
    "### Generate COCO formated ground truth in `json`\n",
    "default path: `\"./data/json_format/coco_gt\"` "
   ]
  },
  {
   "cell_type": "markdown",
   "metadata": {},
   "source": [
    "### Load and Fine tune `YOLOv8` on Dataset `100DOH`"
   ]
  },
  {
   "cell_type": "code",
   "execution_count": null,
   "metadata": {},
   "outputs": [],
   "source": [
    "mdl = '/home/swdev/contactEst/InteractionDetectorDDETR/ddetr_dv/models/yolo_backbone/best_l.pt'     # Modify your own model path\n",
    "train_yolo = False\n",
    "model = YOLO(mdl, task='detect').cuda()\n",
    "nParams = sum([p.numel() for p in model.parameters()])\n",
    "print(f'The model contains {nParams/1e6:.1f}M parameters!')\n",
    "if train_yolo:\n",
    "    data_yaml = '/home/swdev/contactEst/InteractionDetectorDDETR/ddetr_dv/data/100DOH/DOH_all.yml'\n",
    "    model.train(data=data_yaml, epochs=10, imgsz=480, batch=12, save_period=1, lr0=1e-6, lrf=1e-2)"
   ]
  },
  {
   "cell_type": "markdown",
   "metadata": {},
   "source": [
    "### Evaluate yolo on `100DOH` testset"
   ]
  },
  {
   "cell_type": "code",
   "execution_count": null,
   "metadata": {},
   "outputs": [],
   "source": [
    "# Select a criterion to evaluate\n",
    "criterion = criteria[0]     # ['handstate', 'handside', 'hand+obj', None]\n",
    "is_demo = True\n",
    "\n",
    "fp = eval_yolo(model, criterion, is_demo=is_demo)\n",
    "eval_plot_COCO(model, fp, criterion)"
   ]
  },
  {
   "cell_type": "markdown",
   "metadata": {},
   "source": [
    "#### Plots"
   ]
  },
  {
   "cell_type": "code",
   "execution_count": null,
   "metadata": {},
   "outputs": [],
   "source": [
    "criterion = criteria[2]      # Choose one of all generated detection results to plot\n",
    "eval_plot_COCO(model, fp, criterion)"
   ]
  },
  {
   "cell_type": "markdown",
   "metadata": {},
   "source": [
    "### Evalaute Domain Adaptabiilty\n",
    "\n",
    "Evaluate the domain adaptability of the loaded YOLO model on the custom dataset"
   ]
  },
  {
   "cell_type": "code",
   "execution_count": null,
   "metadata": {},
   "outputs": [],
   "source": [
    "eval_da_yolo(model, criterion)"
   ]
  }
 ],
 "metadata": {
  "kernelspec": {
   "display_name": "cfe",
   "language": "python",
   "name": "python3"
  },
  "language_info": {
   "codemirror_mode": {
    "name": "ipython",
    "version": 3
   },
   "file_extension": ".py",
   "mimetype": "text/x-python",
   "name": "python",
   "nbconvert_exporter": "python",
   "pygments_lexer": "ipython3",
   "version": "3.10.12"
  }
 },
 "nbformat": 4,
 "nbformat_minor": 2
}
