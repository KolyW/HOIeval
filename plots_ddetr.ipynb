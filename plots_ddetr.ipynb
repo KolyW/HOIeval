{
 "cells": [
  {
   "cell_type": "markdown",
   "metadata": {},
   "source": [
    "### Load Environments"
   ]
  },
  {
   "cell_type": "code",
   "execution_count": null,
   "metadata": {},
   "outputs": [],
   "source": [
    "from pycocotools.cocoeval import COCOeval\n",
    "from pycocotools.coco import COCO\n",
    "from utils.post_utils import plotPR\n",
    "from utils.post_utils import res_remapping\n",
    "from main import ddetr_main\n",
    "from engine.da_eval import eval_da_DDETR"
   ]
  },
  {
   "cell_type": "markdown",
   "metadata": {},
   "source": [
    "### Evaluating Deformable DETR HOI Detector on `100DOH` testset"
   ]
  },
  {
   "cell_type": "markdown",
   "metadata": {},
   "source": [
    "2 ways to generate detection results respect to different sub-criteria\n",
    "- Specify `eval_constraint=None` in evluaation, and run the next block `res_remapping` to remap the result to sub-criterion\n",
    "- Directly specify `eval_constraint` to the desired sub-criterion, feasible criteria: [`None` (all included), `'handstate'`, `'handside'`, `'hand+obj'`]"
   ]
  },
  {
   "cell_type": "markdown",
   "metadata": {},
   "source": [
    "#### Evaluation"
   ]
  },
  {
   "cell_type": "code",
   "execution_count": null,
   "metadata": {},
   "outputs": [],
   "source": [
    "DATAPATH = \"./data/100DOH\"\n",
    "task = 'hand_obj'\n",
    "IS_TRAIN = False    # set to false if evaluation\n",
    "IS_DEMO = True\n",
    "cp = '/home/swdev/contactEst/InteractionDetectorDDETR/ddetr_dv/models/checkpoints/DeformableDETR/deform-300-cp-66600/'\n",
    "scaling_rate = 2\n",
    "cls_thres:float=0.1\n",
    "nms_thres:float=0.5\n",
    "criteria = ['handstate', 'handside', 'hand+obj', None]\n",
    "eval_constraint = criteria[0]   # Feasible constraints: [None (all included), 'handstate', 'handside', 'hand+obj']\n",
    "\n",
    "ddetr_main(cp,\n",
    "            dataset_path=DATAPATH,\n",
    "            scaling_rate=scaling_rate,\n",
    "            is_train=IS_TRAIN,\n",
    "            is_demo=IS_DEMO,\n",
    "            task=task,\n",
    "            cls_thres=cls_thres,\n",
    "            nms_thres=nms_thres,\n",
    "            ignore_mismatched_sizes=False,\n",
    "            eval_constraint=eval_constraint)"
   ]
  },
  {
   "cell_type": "markdown",
   "metadata": {},
   "source": [
    "#### Result remapping\n",
    "1. Specify the path to detection result\n",
    "2. Specify the output path\n",
    "3. Specify the criterion"
   ]
  },
  {
   "cell_type": "code",
   "execution_count": null,
   "metadata": {},
   "outputs": [],
   "source": [
    "res_path = 'results/ddetrhod20/res.json'\n",
    "output_path = 'results/ddetrhod20'\n",
    "criterion = criteria[3]\n",
    "\n",
    "res_remapping(res_path, output_path, criterion)"
   ]
  },
  {
   "cell_type": "markdown",
   "metadata": {},
   "source": [
    "### Evaluation Result Plotting"
   ]
  },
  {
   "cell_type": "code",
   "execution_count": null,
   "metadata": {},
   "outputs": [],
   "source": [
    "criterion = criteria[2]\n",
    "\n",
    "gtpath = f\"data/json_format/coco_gt/gt_{criterion if criterion else 'all'}.json\"\n",
    "dtpath = f\"results/ddetrhod20/res_{criterion if criterion else 'all'}.json\"\n",
    "\n",
    "mdl = 'Deformable DETR 20 Queries'\n",
    "\n",
    "cocoGt = COCO(gtpath)\n",
    "cocoDt = cocoGt.loadRes(dtpath)\n",
    "coco_eval = COCOeval(cocoGt, cocoDt, iouType='bbox')\n",
    "coco_eval.evaluate()\n",
    "coco_eval.accumulate()\n",
    "coco_eval.summarize()\n",
    "\n",
    "plotPR(coco_eval, criterion, mdl)"
   ]
  },
  {
   "cell_type": "markdown",
   "metadata": {},
   "source": [
    "### Domain Adaptability Evaluation"
   ]
  },
  {
   "cell_type": "markdown",
   "metadata": {},
   "source": [
    "Load Deformable DETR model"
   ]
  },
  {
   "cell_type": "code",
   "execution_count": null,
   "metadata": {},
   "outputs": [],
   "source": [
    "from engine.load_model import load_model\n",
    "\n",
    "task = 'hand_obj'\n",
    "num_cls = 4\n",
    "scaling_rate = 2\n",
    "target_size = [1333 // scaling_rate, 800 // scaling_rate]\n",
    "\n",
    "mdl = 'ddetr'\n",
    "cp = 'models/checkpoints/DeformableDETR/deform-20-cp-66600'\n",
    "nr_queries = 300 if cp.split('/')[-2].endswith('RichQueries') else 20\n",
    "\n",
    "model, cp, cfg = load_model(mdl,\n",
    "                            cp = cp,\n",
    "                            task = task,\n",
    "                            nr_queries = nr_queries, \n",
    "                            num_cls = num_cls, \n",
    "                            is_train = False)\n",
    "model = model.cuda().eval()"
   ]
  },
  {
   "cell_type": "markdown",
   "metadata": {},
   "source": [
    "Evaluating Domain Adaptability of Deformable DETR on the custom dataset and demonstrating the results including plots"
   ]
  },
  {
   "cell_type": "code",
   "execution_count": null,
   "metadata": {},
   "outputs": [],
   "source": [
    "criterion = 'handstate'  # 'hand+obj', 'handstate'\n",
    "eval_da_DDETR(model, criterion)"
   ]
  },
  {
   "cell_type": "markdown",
   "metadata": {},
   "source": [
    "### `Faster RCNN` Domain Adaptability Evaluation"
   ]
  },
  {
   "cell_type": "code",
   "execution_count": null,
   "metadata": {},
   "outputs": [],
   "source": [
    "criteria = ['handstate', 'handside', 'hand+obj', None]\n",
    "criterion = criteria[0]\n",
    "\n",
    "gtpath = f\"/home/swdev/contactEst/InteractionDetectorDDETR/eval/data/anns/gt_{criterion if criterion else 'all'}.json\"\n",
    "dtpath = f\"/home/swdev/contactEst/InteractionDetectorDDETR/results/da_res_fr/res_{criterion if criterion else 'all'}.json\"\n",
    "\n",
    "mdl = 'Faster R-CNN + ResNet101'\n",
    "\n",
    "cocoGt = COCO(gtpath)\n",
    "cocoDt = cocoGt.loadRes(dtpath)\n",
    "coco_eval = COCOeval(cocoGt, cocoDt, iouType='bbox')\n",
    "coco_eval.evaluate()\n",
    "coco_eval.accumulate()\n",
    "coco_eval.summarize()\n",
    "\n",
    "plotPR(coco_eval, criterion, mdl)"
   ]
  }
 ],
 "metadata": {
  "kernelspec": {
   "display_name": "cfe",
   "language": "python",
   "name": "python3"
  },
  "language_info": {
   "codemirror_mode": {
    "name": "ipython",
    "version": 3
   },
   "file_extension": ".py",
   "mimetype": "text/x-python",
   "name": "python",
   "nbconvert_exporter": "python",
   "pygments_lexer": "ipython3",
   "version": "3.10.12"
  }
 },
 "nbformat": 4,
 "nbformat_minor": 2
}
