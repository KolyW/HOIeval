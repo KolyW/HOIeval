{
 "cells": [
  {
   "cell_type": "code",
   "execution_count": null,
   "metadata": {},
   "outputs": [],
   "source": [
    "import numpy as np\n",
    "import csv, json\n",
    "import os, shutil\n",
    "import cv2"
   ]
  },
  {
   "cell_type": "markdown",
   "metadata": {},
   "source": [
    "### Extract frame data from videos\n",
    "Default path: `da_eval/data/frames`"
   ]
  },
  {
   "cell_type": "code",
   "execution_count": null,
   "metadata": {},
   "outputs": [],
   "source": [
    "from vid2imgs import vid2imgs\n",
    "\n",
    "vid2imgs('data/mtm_augmented_data',\n",
    "            'data/testframes')"
   ]
  },
  {
   "cell_type": "markdown",
   "metadata": {},
   "source": [
    "### Convert keypoint annotations from `csv` to bounding box in `json` "
   ]
  },
  {
   "cell_type": "code",
   "execution_count": null,
   "metadata": {},
   "outputs": [],
   "source": [
    "from csv_json_convert import csv_json_convertor\n",
    "\n",
    "criteria = ['hand+obj', 'handstate']\n",
    "for criterion in criteria:\n",
    "    csv_json_convertor(csv_path=\"data/mtm_augmented_data\",\n",
    "                    output_path=\"data/anns\",\n",
    "                    criterion=criterion)"
   ]
  },
  {
   "cell_type": "markdown",
   "metadata": {},
   "source": [
    "### Remove Frame labeled by `Negative`"
   ]
  },
  {
   "cell_type": "code",
   "execution_count": null,
   "metadata": {},
   "outputs": [],
   "source": [
    "im_path = 'data/frames'\n",
    "nr_frames = len(os.listdir(im_path))\n",
    "\n",
    "file = 'data/anns/gt_hand.json'\n",
    "with open(file, 'r') as f:\n",
    "    im_info = json.load(f)['images']\n",
    "\n",
    "valid_frames = [im['file_name'] for im in im_info]\n",
    "for frame in os.listdir(im_path):\n",
    "    if frame not in valid_frames:\n",
    "        os.remove(os.path.join(im_path, frame))"
   ]
  }
 ],
 "metadata": {
  "kernelspec": {
   "display_name": "cfe",
   "language": "python",
   "name": "python3"
  },
  "language_info": {
   "codemirror_mode": {
    "name": "ipython",
    "version": 3
   },
   "file_extension": ".py",
   "mimetype": "text/x-python",
   "name": "python",
   "nbconvert_exporter": "python",
   "pygments_lexer": "ipython3",
   "version": "3.10.12"
  }
 },
 "nbformat": 4,
 "nbformat_minor": 2
}
